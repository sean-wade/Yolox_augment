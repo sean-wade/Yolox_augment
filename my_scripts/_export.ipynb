{
 "cells": [
  {
   "cell_type": "code",
   "execution_count": 1,
   "id": "fdfb95a1-cf6a-4793-9655-1966e351e5cb",
   "metadata": {},
   "outputs": [],
   "source": [
    "import torch\n",
    "from torch import nn\n",
    "\n",
    "from yolox.exp import get_exp\n",
    "from yolox.models.network_blocks import SiLU\n",
    "from yolox.utils import replace_module\n",
    "\n",
    "import torch\n",
    "from yolox.models import YOLOPAFPN_234, YOLOPAFPN"
   ]
  },
  {
   "cell_type": "code",
   "execution_count": 2,
   "id": "2f56063f-894f-4095-948b-83319cc969c8",
   "metadata": {},
   "outputs": [],
   "source": [
    "fpn = YOLOPAFPN(0.33, 0.50)\n",
    "fpn2 = YOLOPAFPN_234(0.33, 0.50)"
   ]
  },
  {
   "cell_type": "code",
   "execution_count": 3,
   "id": "92500299-1376-4e0f-bf99-5666906acca3",
   "metadata": {},
   "outputs": [],
   "source": [
    "fpn = replace_module(fpn, nn.SiLU, SiLU)\n",
    "fpn2 = replace_module(fpn2, nn.SiLU, SiLU)"
   ]
  },
  {
   "cell_type": "code",
   "execution_count": 4,
   "id": "f94f1c46-a5ad-4b3e-925d-a53b71ca9404",
   "metadata": {},
   "outputs": [],
   "source": [
    "def sim(path):\n",
    "    import onnx\n",
    "    from onnxsim import simplify\n",
    "\n",
    "    onnx_model = onnx.load(path)\n",
    "    model_simp, check = simplify(onnx_model)\n",
    "    assert check, \"Simplified ONNX model could not be validated\"\n",
    "    onnx.save(model_simp, path)"
   ]
  },
  {
   "cell_type": "code",
   "execution_count": 5,
   "id": "373b2541-2edd-4388-91d9-3384d6a64940",
   "metadata": {},
   "outputs": [
    {
     "name": "stderr",
     "output_type": "stream",
     "text": [
      "/home/zhanghao/.local/lib/python3.6/site-packages/torch/onnx/utils.py:46: UserWarning: You are exporting the model to ONNX while in training mode with 'train' parameter not specified. The model will default to inference mode export. If you wish to export a training amenable ONNX model, specify training=TrainingMode.TRAINING or training=TrainingMode.PRESERVE (to preserve the original model state) in torch.onnx.export().\n",
      "  warnings.warn(\"You are exporting the model to ONNX while in training mode with \"\n",
      "/home/zhanghao/.local/lib/python3.6/site-packages/torch/nn/functional.py:718: UserWarning: Named tensors and all their associated APIs are an experimental feature and subject to change. Please do not use them for anything important until they are released as stable. (Triggered internally at  /pytorch/c10/core/TensorImpl.h:1156.)\n",
      "  return torch.max_pool2d(input, kernel_size, stride, padding, dilation, ceil_mode)\n"
     ]
    }
   ],
   "source": [
    "dummy_input = torch.randn(1, 3, 640, 640)\n",
    "\n",
    "torch.onnx._export(\n",
    "    fpn,\n",
    "    dummy_input,\n",
    "    \"fpn.onnx\",\n",
    "    input_names=[\"images\"],\n",
    "    opset_version=11,\n",
    ")\n",
    "sim(\"fpn.onnx\")"
   ]
  },
  {
   "cell_type": "code",
   "execution_count": 6,
   "id": "66553475-626a-495b-9735-2544d0d388e5",
   "metadata": {},
   "outputs": [],
   "source": [
    "torch.onnx._export(\n",
    "    fpn2,\n",
    "    dummy_input,\n",
    "    \"fpn2.onnx\",\n",
    "    input_names=[\"images\"],\n",
    "    opset_version=11,\n",
    ")\n",
    "sim(\"fpn2.onnx\")"
   ]
  },
  {
   "cell_type": "code",
   "execution_count": 7,
   "id": "ab309b02-4469-46a5-82c0-de9ff0613df6",
   "metadata": {},
   "outputs": [],
   "source": [
    "from yolox.models import CSPDarknet\n",
    "\n",
    "backbone = CSPDarknet(0.33, 0.50)"
   ]
  },
  {
   "cell_type": "code",
   "execution_count": 8,
   "id": "5d52e5b2-78d6-490f-8bd1-a64b818985a8",
   "metadata": {},
   "outputs": [],
   "source": [
    "dummy_input = torch.randn(1, 3, 640, 640)\n",
    "torch.onnx._export(\n",
    "    backbone,\n",
    "    dummy_input,\n",
    "    \"backbone.onnx\",\n",
    "    input_names=[\"images\"],\n",
    "    opset_version=11,\n",
    ")\n",
    "sim(\"backbone.onnx\")"
   ]
  },
  {
   "cell_type": "code",
   "execution_count": null,
   "id": "eda0ff7a-96d5-4f78-9f4f-68f7c0efed73",
   "metadata": {},
   "outputs": [],
   "source": []
  }
 ],
 "metadata": {
  "kernelspec": {
   "display_name": "Python 3",
   "language": "python",
   "name": "python3"
  },
  "language_info": {
   "codemirror_mode": {
    "name": "ipython",
    "version": 3
   },
   "file_extension": ".py",
   "mimetype": "text/x-python",
   "name": "python",
   "nbconvert_exporter": "python",
   "pygments_lexer": "ipython3",
   "version": "3.6.9"
  }
 },
 "nbformat": 4,
 "nbformat_minor": 5
}
