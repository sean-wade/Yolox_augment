{
 "cells": [
  {
   "cell_type": "code",
   "execution_count": 2,
   "metadata": {},
   "outputs": [],
   "source": [
    "from yolox.exp import Exp, get_exp\n",
    "from yolox.data import DataPrefetcher\n",
    "\n",
    "import cv2\n",
    "import numpy as np\n",
    "from tqdm import tqdm\n",
    "from matplotlib import pyplot as plt\n",
    "\n",
    "exp = get_exp(\"./exps/yolox_s_dtld_aug_960.py\", \"test\")\n",
    "train_loader = exp.get_data_loader(\n",
    "            batch_size=1,\n",
    "            is_distributed=False,\n",
    "            no_aug=False,\n",
    "            cache_img=False,\n",
    "        )\n",
    "prefetcher = DataPrefetcher(train_loader)\n",
    "\n",
    "def draw_data(fetcher, exp, save_path=None, show=False):\n",
    "    inps, targets = fetcher.next()\n",
    "    inps, targets = exp.preprocess(inps, targets, exp.input_size)\n",
    "    img1 = np.uint8(inps[0].permute(1,2,0).cpu().numpy())\n",
    "    img1 = img1.astype(np.uint8).copy()\n",
    "\n",
    "    for ttt in targets[0]:\n",
    "        if ttt[4] > 0:\n",
    "            lt = (int(ttt[1] - ttt[3]/2.0), int(ttt[2] - ttt[4]/2.0))\n",
    "            rb = (int(ttt[1] + ttt[3]/2.0), int(ttt[2] + ttt[4]/2.0))\n",
    "            img1 = cv2.rectangle(img1, lt, rb, (0,255,0),1)\n",
    "            if save_path:\n",
    "                cv2.imwrite(save_path, img1)\n",
    "    if show:\n",
    "        plt.figure(dpi=100, figsize=(8,8))\n",
    "        plt.imshow(img1[:,:,[2,1,0]])"
   ]
  },
  {
   "cell_type": "code",
   "execution_count": 3,
   "metadata": {},
   "outputs": [
    {
     "name": "stderr",
     "output_type": "stream",
     "text": [
      "100%|██████████| 50/50 [00:13<00:00,  3.72it/s]\n"
     ]
    }
   ],
   "source": [
    "for i in tqdm(range(50)):\n",
    "    draw_data(prefetcher, exp, \"draw/%d.jpg\"%i)"
   ]
  },
  {
   "cell_type": "code",
   "execution_count": 1,
   "metadata": {},
   "outputs": [],
   "source": [
    "!rm -r draw/*"
   ]
  },
  {
   "cell_type": "code",
   "execution_count": null,
   "metadata": {},
   "outputs": [],
   "source": []
  }
 ],
 "metadata": {
  "kernelspec": {
   "display_name": "Python 3",
   "language": "python",
   "name": "python3"
  },
  "language_info": {
   "codemirror_mode": {
    "name": "ipython",
    "version": 3
   },
   "file_extension": ".py",
   "mimetype": "text/x-python",
   "name": "python",
   "nbconvert_exporter": "python",
   "pygments_lexer": "ipython3",
   "version": "3.8.5"
  }
 },
 "nbformat": 4,
 "nbformat_minor": 4
}
