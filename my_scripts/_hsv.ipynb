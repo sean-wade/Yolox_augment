{
 "cells": [
  {
   "cell_type": "code",
   "execution_count": 1,
   "id": "567ad492-98a5-40c7-b79f-bc198a65934e",
   "metadata": {},
   "outputs": [],
   "source": [
    "import cv2\n",
    "import numpy as np\n",
    "\n",
    "def augment_hsv(im, hgain=0.5, sgain=0.5, vgain=0.5):\n",
    "    # HSV color-space augmentation\n",
    "    if hgain or sgain or vgain:\n",
    "        r = np.random.uniform(-1, 1, 3) * [hgain, sgain, vgain] + 1  # random gains\n",
    "        hue, sat, val = cv2.split(cv2.cvtColor(im, cv2.COLOR_BGR2HSV))\n",
    "        dtype = im.dtype  # uint8\n",
    "\n",
    "        x = np.arange(0, 256, dtype=r.dtype)\n",
    "        lut_hue = ((x * r[0]) % 180).astype(dtype)\n",
    "        lut_sat = np.clip(x * r[1], 0, 255).astype(dtype)\n",
    "        lut_val = np.clip(x * r[2], 0, 255).astype(dtype)\n",
    "\n",
    "        im_hsv = cv2.merge((cv2.LUT(hue, lut_hue), cv2.LUT(sat, lut_sat), cv2.LUT(val, lut_val)))\n",
    "        cv2.cvtColor(im_hsv, cv2.COLOR_HSV2BGR, dst=im)  # no return needed"
   ]
  },
  {
   "cell_type": "code",
   "execution_count": 2,
   "id": "ebafb88c-f1a5-4a67-aa04-d0059b4b6325",
   "metadata": {},
   "outputs": [],
   "source": [
    "def augment_hsv_x(img, hgain=5, sgain=30, vgain=30):\n",
    "    hsv_augs = np.random.uniform(-1, 1, 3) * [hgain, sgain, vgain]  # random gains\n",
    "    hsv_augs *= np.random.randint(0, 2, 3)  # random selection of h, s, v\n",
    "    hsv_augs = hsv_augs.astype(np.int16)\n",
    "    img_hsv = cv2.cvtColor(img, cv2.COLOR_BGR2HSV).astype(np.int16)\n",
    "\n",
    "    img_hsv[..., 0] = (img_hsv[..., 0] + hsv_augs[0]) % 180\n",
    "    img_hsv[..., 1] = np.clip(img_hsv[..., 1] + hsv_augs[1], 0, 255)\n",
    "    img_hsv[..., 2] = np.clip(img_hsv[..., 2] + hsv_augs[2], 0, 255)\n",
    "\n",
    "    cv2.cvtColor(img_hsv.astype(img.dtype), cv2.COLOR_HSV2BGR, dst=img)  # no return needed"
   ]
  },
  {
   "cell_type": "code",
   "execution_count": 3,
   "id": "b61fbf50-c3c3-468b-8f03-4468188c4086",
   "metadata": {},
   "outputs": [],
   "source": [
    "img = cv2.imread(\"/mnt/Perception/zhanghao/DTLD_Yolo/images/val_mini/Bremen1-0.png\")"
   ]
  },
  {
   "cell_type": "code",
   "execution_count": 6,
   "id": "513afe59-7fc8-4e27-ab29-e3c1c1c87a56",
   "metadata": {},
   "outputs": [],
   "source": [
    "for i in range(1000):\n",
    "    img_ = img.copy()\n",
    "    augment_hsv(img_, 0.015, 0.7, 0.4)\n",
    "    cv2.imwrite(\"hsv_5/%d.jpg\"%i, img_)"
   ]
  },
  {
   "cell_type": "code",
   "execution_count": 12,
   "id": "6ad60078-c075-4027-bba3-ce94631f7e36",
   "metadata": {},
   "outputs": [],
   "source": [
    "for i in range(100):\n",
    "    img_ = img.copy()\n",
    "    augment_hsv_x(img_, 3, 75, 30)\n",
    "    cv2.imwrite(\"hsv_x/%d.jpg\"%i, img_)"
   ]
  },
  {
   "cell_type": "code",
   "execution_count": null,
   "id": "1cf93bcc-d2c9-4c22-baf1-9f59f82bbaa3",
   "metadata": {},
   "outputs": [],
   "source": []
  }
 ],
 "metadata": {
  "kernelspec": {
   "display_name": "Python 3",
   "language": "python",
   "name": "python3"
  },
  "language_info": {
   "codemirror_mode": {
    "name": "ipython",
    "version": 3
   },
   "file_extension": ".py",
   "mimetype": "text/x-python",
   "name": "python",
   "nbconvert_exporter": "python",
   "pygments_lexer": "ipython3",
   "version": "3.6.9"
  }
 },
 "nbformat": 4,
 "nbformat_minor": 5
}
