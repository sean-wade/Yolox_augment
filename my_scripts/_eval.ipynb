{
 "cells": [
  {
   "cell_type": "code",
   "execution_count": 1,
   "id": "76898dff-3fa8-47a1-8ada-6424385c0cd5",
   "metadata": {},
   "outputs": [],
   "source": [
    "import cv2\n",
    "import torch\n",
    "import numpy as np\n",
    "\n",
    "from yolox.exp import Exp, get_exp\n",
    "\n",
    "exp = get_exp(\"/home/zhanghao/code/master/2_DET2D/YOLOX/exps/dtld/dtld_s.py\", \"test_dtld\")"
   ]
  },
  {
   "cell_type": "code",
   "execution_count": 2,
   "id": "9e3c75e2-2a37-4970-8d76-ee522a5bbda7",
   "metadata": {},
   "outputs": [],
   "source": [
    "evaluator = exp.get_evaluator(\n",
    "            batch_size=1, is_distributed=False\n",
    "        )"
   ]
  },
  {
   "cell_type": "code",
   "execution_count": 3,
   "id": "15f3d191-52b7-43f1-9556-a300b4b80746",
   "metadata": {},
   "outputs": [
    {
     "data": {
      "text/plain": [
       "<All keys matched successfully>"
      ]
     },
     "execution_count": 3,
     "metadata": {},
     "output_type": "execute_result"
    }
   ],
   "source": [
    "model = exp.get_model()\n",
    "model.to(\"cuda\")\n",
    "ckpt = torch.load(\"YOLOX_outputs/dtld_s2/epoch_1_ckpt.pth\", map_location=\"cpu\")\n",
    "model.load_state_dict(ckpt[\"model\"])"
   ]
  },
  {
   "cell_type": "code",
   "execution_count": null,
   "id": "d7a3ebba-853e-424c-8f01-35ecc91f8969",
   "metadata": {},
   "outputs": [],
   "source": [
    "exp.eval(model, evaluator, False)"
   ]
  },
  {
   "cell_type": "code",
   "execution_count": null,
   "id": "1d97aaf3-bd94-4245-9e26-ce219f5fe4c5",
   "metadata": {},
   "outputs": [],
   "source": []
  }
 ],
 "metadata": {
  "kernelspec": {
   "display_name": "Python 3",
   "language": "python",
   "name": "python3"
  },
  "language_info": {
   "codemirror_mode": {
    "name": "ipython",
    "version": 3
   },
   "file_extension": ".py",
   "mimetype": "text/x-python",
   "name": "python",
   "nbconvert_exporter": "python",
   "pygments_lexer": "ipython3",
   "version": "3.6.9"
  }
 },
 "nbformat": 4,
 "nbformat_minor": 5
}
